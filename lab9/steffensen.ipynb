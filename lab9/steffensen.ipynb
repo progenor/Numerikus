{
 "cells": [
  {
   "cell_type": "code",
   "execution_count": null,
   "id": "ad62ffdd",
   "metadata": {},
   "outputs": [],
   "source": [
    "def steffensen(f, x0, max_iterations=100, epsilon=1e-10):\n",
    "    x = x0\n",
    "\n",
    "    for k in range(max_iterations):\n",
    "        x1 = f(x)              # First approximation: f(x)\n",
    "        x2 = f(x1)             # Second approximation: f(f(x))\n",
    "\n",
    "        denominator = x2 - 2 * x1 + x\n",
    "        if denominator == 0:   # Avoid division by zero\n",
    "            break\n",
    "\n",
    "        # Aitken acceleration formula:\n",
    "        x_new = x - ((x1 - x)**2) / denominator\n",
    "\n",
    "        if abs(x_new - x) < epsilon:  # Convergence test\n",
    "            break\n",
    "\n",
    "        x = x_new\n",
    "\n",
    "    return x"
   ]
  }
 ],
 "metadata": {
  "language_info": {
   "name": "python"
  }
 },
 "nbformat": 4,
 "nbformat_minor": 5
}
