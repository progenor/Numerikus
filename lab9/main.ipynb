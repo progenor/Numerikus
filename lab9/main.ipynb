{
 "cells": [
  {
   "cell_type": "code",
   "execution_count": null,
   "id": "774f7cb0",
   "metadata": {},
   "outputs": [],
   "source": [
    "def HurModszer(a, b, f, k_max, tol=1e-10):\n",
    "    x = b\n",
    "    s = a\n",
    "    \n",
    "    for k in range(1, k_max):\n",
    "        if (f(x) == f(s)):\n",
    "            print(\"Division by zero\")\n",
    "            break\n",
    "        \n",
    "        x_new = x - (x - s / (f(x) - f(s)))*f(x)\n",
    "        \n",
    "        if(f(x_new) == 0):\n",
    "            break\n",
    "        \n",
    "        if abs(f(x_new)) < tol:\n",
    "            return x_new  # root found\n",
    "\n",
    "        if f(x_new) * f(x) < 0:\n",
    "            s = x\n",
    "\n",
    "        x = x_new\n",
    "\n",
    "    return x"
   ]
  }
 ],
 "metadata": {
  "language_info": {
   "name": "python"
  }
 },
 "nbformat": 4,
 "nbformat_minor": 5
}
