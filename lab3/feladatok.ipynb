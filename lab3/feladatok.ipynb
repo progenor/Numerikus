{
 "cells": [
  {
   "cell_type": "code",
   "execution_count": 14,
   "metadata": {},
   "outputs": [],
   "source": [
    "import matplotlib.pyplot as plt\n",
    "import math as mt\n",
    "\n",
    "\n"
   ]
  },
  {
   "cell_type": "code",
   "execution_count": 15,
   "metadata": {},
   "outputs": [],
   "source": [
    "def En(n):\n",
    "    x= (mt.pi/4 - 0.5 * mt.atan(n*n)- (n+1)/(2*pow(n+1, 4)+2))\n",
    "    return x"
   ]
  },
  {
   "cell_type": "code",
   "execution_count": 28,
   "metadata": {},
   "outputs": [
    {
     "name": "stdout",
     "output_type": "stream",
     "text": [
      "S:  0.6940724286500732\n",
      "n 71\n"
     ]
    }
   ],
   "source": [
    "S = 1/2\n",
    "n=2\n",
    "\n",
    "\n",
    "while En(n) > 0.0001:\n",
    "    S = S + n/(mt.pow(n,4)+1)\n",
    "    n += 1\n",
    "\n",
    "\n",
    "print(\"S: \", S)\n",
    "print(\"n\", n)\n",
    "# print(\"En: \", En)\n",
    "# print(\"S-En: \", S-En)"
   ]
  },
  {
   "cell_type": "markdown",
   "metadata": {},
   "source": [
    "# Feladat 2"
   ]
  },
  {
   "cell_type": "markdown",
   "metadata": {},
   "source": [
    "$$S1=\\frac{{\\pi}^2}6$$\n",
    "$$S2 = \\frac{\\pi^4} {90}$$"
   ]
  },
  {
   "cell_type": "code",
   "execution_count": 51,
   "metadata": {},
   "outputs": [],
   "source": [
    "def En1(n):\n",
    "    x = 1/n - 1/(2*mt.pow(n+1,2))\n",
    "    return x\n",
    "def En2(n):\n",
    "    x = 1/(3*(n**3)) - 1/(2*mt.pow(n+1,4))\n",
    "    return x"
   ]
  },
  {
   "cell_type": "code",
   "execution_count": 36,
   "metadata": {},
   "outputs": [
    {
     "name": "stdout",
     "output_type": "stream",
     "text": [
      "3.1414971543976273\n"
     ]
    }
   ],
   "source": [
    "S1 = 0\n",
    "n=1\n",
    "\n",
    "while En1(n) > 0.0001:\n",
    "    S1 += 1/(n*n)\n",
    "    n += 1\n",
    "print(mt.sqrt(6*S1))"
   ]
  },
  {
   "cell_type": "code",
   "execution_count": 52,
   "metadata": {},
   "outputs": [
    {
     "name": "stdout",
     "output_type": "stream",
     "text": [
      "3.1415849185441234\n"
     ]
    }
   ],
   "source": [
    "S2 = 0\n",
    "n=1\n",
    "\n",
    "while En2(n) > 0.00001:\n",
    "    S2 += 1/(n**4)\n",
    "    n += 1\n",
    "\n",
    "print((90*S2)**(1/4))"
   ]
  }
 ],
 "metadata": {
  "kernelspec": {
   "display_name": "Python 3",
   "language": "python",
   "name": "python3"
  },
  "language_info": {
   "codemirror_mode": {
    "name": "ipython",
    "version": 3
   },
   "file_extension": ".py",
   "mimetype": "text/x-python",
   "name": "python",
   "nbconvert_exporter": "python",
   "pygments_lexer": "ipython3",
   "version": "3.13.2"
  }
 },
 "nbformat": 4,
 "nbformat_minor": 2
}
