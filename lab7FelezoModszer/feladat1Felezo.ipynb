{
 "cells": [
  {
   "cell_type": "code",
   "execution_count": 1,
   "metadata": {},
   "outputs": [],
   "source": [
    "import numpy as np\n",
    "import matplotlib.pyplot as plt\n",
    "\n"
   ]
  },
  {
   "cell_type": "code",
   "execution_count": 1,
   "metadata": {},
   "outputs": [],
   "source": [
    "'''\n",
    "    L : loan amount\n",
    "    R : interest rate\n",
    "    m : number of months\n",
    "'''\n",
    "def m_pay(L, R, m):\n",
    "    return (L*R) / (12 * (1 - 1/((1+ R/12)**m)))\n",
    "\n",
    "\n",
    "target_payment = 1684.57\n",
    "\n",
    "def payment_difference(R):\n",
    "    return m_pay(300000, R, 240) - target_payment\n"
   ]
  },
  {
   "cell_type": "code",
   "execution_count": 2,
   "metadata": {},
   "outputs": [
    {
     "name": "stdout",
     "output_type": "stream",
     "text": [
      "Annual interest rate: 3.1378%\n",
      "Monthly payment with this rate: 1684.57\n",
      "Number of iterations needed: 30\n"
     ]
    }
   ],
   "source": [
    "def felezo(a, b, MaxIter=100, Eps=1e-10):\n",
    "    i = 0\n",
    "    history = []\n",
    "    \n",
    "    history.append((a, b, (a+b)/2))\n",
    "    \n",
    "    while i < MaxIter:\n",
    "        m = (a+b)/2\n",
    "        \n",
    "        if payment_difference(m) == 0 or ((b-a)/2 < Eps):\n",
    "            return m, history\n",
    "        \n",
    "        if payment_difference(m)*payment_difference(a) > 0:\n",
    "            a = m\n",
    "        else:\n",
    "            b = m\n",
    "            \n",
    "        history.append((a, b, m))\n",
    "        i += 1\n",
    "    \n",
    "    return m, history\n",
    "\n",
    "lower_rate = 0.01  # 1% interest\n",
    "upper_rate = 0.10  # 10% interest\n",
    "\n",
    "interest_rate, iterations = felezo(lower_rate, upper_rate)\n",
    "\n",
    "print(f\"Annual interest rate: {interest_rate*100:.4f}%\")\n",
    "print(f\"Monthly payment with this rate: {m_pay(300000, interest_rate, 240):.2f}\")\n",
    "print(f\"Number of iterations needed: {len(iterations)}\")"
   ]
  },
  {
   "cell_type": "code",
   "execution_count": 3,
   "metadata": {},
   "outputs": [
    {
     "ename": "NameError",
     "evalue": "name 'plt' is not defined",
     "output_type": "error",
     "traceback": [
      "\u001b[31m---------------------------------------------------------------------------\u001b[39m",
      "\u001b[31mNameError\u001b[39m                                 Traceback (most recent call last)",
      "\u001b[36mCell\u001b[39m\u001b[36m \u001b[39m\u001b[32mIn[3]\u001b[39m\u001b[32m, line 2\u001b[39m\n\u001b[32m      1\u001b[39m \u001b[38;5;66;03m#Create visualization\u001b[39;00m\n\u001b[32m----> \u001b[39m\u001b[32m2\u001b[39m \u001b[43mplt\u001b[49m.figure(figsize=(\u001b[32m14\u001b[39m, \u001b[32m8\u001b[39m))\n\u001b[32m      4\u001b[39m \u001b[38;5;66;03m# Create two subplots\u001b[39;00m\n\u001b[32m      5\u001b[39m plt.subplot(\u001b[32m2\u001b[39m, \u001b[32m1\u001b[39m, \u001b[32m1\u001b[39m)\n",
      "\u001b[31mNameError\u001b[39m: name 'plt' is not defined"
     ]
    }
   ],
   "source": [
    "#Create visualization\n",
    "plt.figure(figsize=(14, 8))\n",
    "\n",
    "# Create two subplots\n",
    "plt.subplot(2, 1, 1)\n",
    "\n",
    "# Plot function payment_difference on the first subplot\n",
    "rates = np.linspace(0.01, 0.10, 1000)\n",
    "payments_diff = [payment_difference(r) for r in rates]\n",
    "plt.plot(rates*100, payments_diff, 'b-', label='Payment Difference Function')\n",
    "plt.axhline(y=0, color='k', linestyle='-', alpha=0.3)  # x-axis\n",
    "plt.axvline(x=interest_rate*100, color='r', linestyle='--', label=f'Solution: {interest_rate*100:.4f}%')\n",
    "\n",
    "# Add markers for initial bounds\n",
    "plt.plot(lower_rate*100, payment_difference(lower_rate), 'go', label='Initial Lower Bound')\n",
    "plt.plot(upper_rate*100, payment_difference(upper_rate), 'ro', label='Initial Upper Bound')\n",
    "\n",
    "plt.xlabel('Interest Rate (%)')\n",
    "plt.ylabel('Payment Difference')\n",
    "plt.title('Payment Difference vs Interest Rate')\n",
    "plt.grid(True)\n",
    "plt.legend()\n",
    "\n",
    "# Show iteration convergence on the second subplot\n",
    "plt.subplot(2, 1, 2)\n",
    "\n",
    "# Extract data from iterations\n",
    "iteration_numbers = range(len(iterations))\n",
    "interval_sizes = [b-a for a, b, m in iterations]\n",
    "midpoints = [m for a, b, m in iterations]\n",
    "\n",
    "# Plot interval sizes (convergence rate)\n",
    "plt.semilogy(iteration_numbers, interval_sizes, 'b-o', label='Interval Size')\n",
    "plt.axhline(y=1e-10, color='r', linestyle='--', label='Target Precision')\n",
    "\n",
    "plt.xlabel('Iteration')\n",
    "plt.ylabel('Interval Size (log scale)')\n",
    "plt.title('Bisection Method Convergence')\n",
    "plt.grid(True)\n",
    "plt.legend()\n",
    "\n",
    "# Adjust layout and show\n",
    "plt.tight_layout()\n",
    "plt.show()\n",
    "\n",
    "# Create another figure to visualize the narrowing intervals\n",
    "plt.figure(figsize=(14, 6))\n",
    "\n",
    "# Plot the iterations\n",
    "for i, (a, b, m) in enumerate(iterations):\n",
    "    plt.plot([i, i], [a*100, b*100], 'b-', linewidth=2)\n",
    "    plt.plot(i, m*100, 'ro', markersize=5)\n",
    "\n",
    "plt.axhline(y=interest_rate*100, color='g', linestyle='--', \n",
    "           label=f'Solution: {interest_rate*100:.4f}%')\n",
    "\n",
    "plt.xlabel('Iteration')\n",
    "plt.ylabel('Interest Rate (%)')\n",
    "plt.title('Bisection Method: Interval Narrowing')\n",
    "plt.grid(True)\n",
    "plt.legend()\n",
    "\n",
    "plt.tight_layout()\n",
    "plt.show()"
   ]
  }
 ],
 "metadata": {
  "kernelspec": {
   "display_name": "Python 3",
   "language": "python",
   "name": "python3"
  },
  "language_info": {
   "codemirror_mode": {
    "name": "ipython",
    "version": 3
   },
   "file_extension": ".py",
   "mimetype": "text/x-python",
   "name": "python",
   "nbconvert_exporter": "python",
   "pygments_lexer": "ipython3",
   "version": "3.13.2"
  }
 },
 "nbformat": 4,
 "nbformat_minor": 2
}
