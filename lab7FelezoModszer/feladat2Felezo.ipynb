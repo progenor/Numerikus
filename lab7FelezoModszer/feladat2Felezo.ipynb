{
 "cells": [
  {
   "cell_type": "code",
   "execution_count": 18,
   "metadata": {},
   "outputs": [],
   "source": [
    "import math as mt\n",
    "import matplotlib.pyplot as plt\n",
    "import numpy as np"
   ]
  },
  {
   "cell_type": "code",
   "execution_count": 19,
   "metadata": {},
   "outputs": [],
   "source": [
    "rho = 1.2      \n",
    "Cd = 0.5        \n",
    "R = 0.117      \n",
    "A = np.pi * R**2  \n",
    "g = 9.81       \n",
    "m = 0.145 \n",
    "\n",
    "target_time = 5\n",
    "target_speed = 19.5"
   ]
  },
  {
   "cell_type": "markdown",
   "metadata": {},
   "source": [
    "v(5) = 19.5 m/s"
   ]
  },
  {
   "cell_type": "code",
   "execution_count": 26,
   "metadata": {},
   "outputs": [],
   "source": [
    "def speed(t, m):\n",
    "    a = mt.sqrt((2*m*g)/(ro*A*Cd))\n",
    "    b = 1 - mt.exp(-mt.sqrt((ro * g * A * Cd)/ (2 * m))*t)\n",
    "    return a * b\n",
    "def velocity_difference(m):\n",
    "    return speed(target_time, m) - target_speed\n"
   ]
  },
  {
   "cell_type": "code",
   "execution_count": 27,
   "metadata": {},
   "outputs": [
    {
     "ename": "NameError",
     "evalue": "name 'ro' is not defined",
     "output_type": "error",
     "traceback": [
      "\u001b[31m---------------------------------------------------------------------------\u001b[39m",
      "\u001b[31mNameError\u001b[39m                                 Traceback (most recent call last)",
      "\u001b[36mCell\u001b[39m\u001b[36m \u001b[39m\u001b[32mIn[27]\u001b[39m\u001b[32m, line 27\u001b[39m\n\u001b[32m     23\u001b[39m lower_mass = \u001b[32m0.01\u001b[39m\n\u001b[32m     24\u001b[39m upper_mass = \u001b[32m1.0\u001b[39m\n\u001b[32m---> \u001b[39m\u001b[32m27\u001b[39m found_mass, history = \u001b[43mfelezo\u001b[49m\u001b[43m(\u001b[49m\u001b[43mlower_mass\u001b[49m\u001b[43m,\u001b[49m\u001b[43m \u001b[49m\u001b[43mupper_mass\u001b[49m\u001b[43m)\u001b[49m\n\u001b[32m     29\u001b[39m \u001b[38;5;28mprint\u001b[39m(\u001b[33mf\u001b[39m\u001b[33m\"\u001b[39m\u001b[33mRequired mass: \u001b[39m\u001b[38;5;132;01m{\u001b[39;00mfound_mass\u001b[38;5;132;01m:\u001b[39;00m\u001b[33m.6f\u001b[39m\u001b[38;5;132;01m}\u001b[39;00m\u001b[33m kg\u001b[39m\u001b[33m\"\u001b[39m)\n\u001b[32m     30\u001b[39m \u001b[38;5;28mprint\u001b[39m(\u001b[33mf\u001b[39m\u001b[33m\"\u001b[39m\u001b[33mNumber of iterations: \u001b[39m\u001b[38;5;132;01m{\u001b[39;00m\u001b[38;5;28mlen\u001b[39m(history)\u001b[38;5;132;01m}\u001b[39;00m\u001b[33m\"\u001b[39m)\n",
      "\u001b[36mCell\u001b[39m\u001b[36m \u001b[39m\u001b[32mIn[27]\u001b[39m\u001b[32m, line 10\u001b[39m, in \u001b[36mfelezo\u001b[39m\u001b[34m(a, b, MaxIter, Eps)\u001b[39m\n\u001b[32m      7\u001b[39m \u001b[38;5;28;01mwhile\u001b[39;00m i < MaxIter:\n\u001b[32m      8\u001b[39m     m = (a+b)/\u001b[32m2\u001b[39m\n\u001b[32m---> \u001b[39m\u001b[32m10\u001b[39m     \u001b[38;5;28;01mif\u001b[39;00m \u001b[43mvelocity_difference\u001b[49m\u001b[43m(\u001b[49m\u001b[43mm\u001b[49m\u001b[43m)\u001b[49m == \u001b[32m0\u001b[39m \u001b[38;5;129;01mor\u001b[39;00m ((b-a)/\u001b[32m2\u001b[39m < Eps):\n\u001b[32m     11\u001b[39m         \u001b[38;5;28;01mreturn\u001b[39;00m m, history\n\u001b[32m     13\u001b[39m     \u001b[38;5;28;01mif\u001b[39;00m velocity_difference(m)*velocity_difference(a) > \u001b[32m0\u001b[39m:\n",
      "\u001b[36mCell\u001b[39m\u001b[36m \u001b[39m\u001b[32mIn[26]\u001b[39m\u001b[32m, line 6\u001b[39m, in \u001b[36mvelocity_difference\u001b[39m\u001b[34m(m)\u001b[39m\n\u001b[32m      5\u001b[39m \u001b[38;5;28;01mdef\u001b[39;00m\u001b[38;5;250m \u001b[39m\u001b[34mvelocity_difference\u001b[39m(m):\n\u001b[32m----> \u001b[39m\u001b[32m6\u001b[39m     \u001b[38;5;28;01mreturn\u001b[39;00m \u001b[43mspeed\u001b[49m\u001b[43m(\u001b[49m\u001b[43mtarget_time\u001b[49m\u001b[43m,\u001b[49m\u001b[43m \u001b[49m\u001b[43mm\u001b[49m\u001b[43m)\u001b[49m - target_speed\n",
      "\u001b[36mCell\u001b[39m\u001b[36m \u001b[39m\u001b[32mIn[26]\u001b[39m\u001b[32m, line 2\u001b[39m, in \u001b[36mspeed\u001b[39m\u001b[34m(t, m)\u001b[39m\n\u001b[32m      1\u001b[39m \u001b[38;5;28;01mdef\u001b[39;00m\u001b[38;5;250m \u001b[39m\u001b[34mspeed\u001b[39m(t, m):\n\u001b[32m----> \u001b[39m\u001b[32m2\u001b[39m     a = mt.sqrt((\u001b[32m2\u001b[39m*m*g)/(\u001b[43mro\u001b[49m*A*Cd))\n\u001b[32m      3\u001b[39m     b = \u001b[32m1\u001b[39m - mt.exp(-mt.sqrt((ro * g * A * Cd)/ (\u001b[32m2\u001b[39m * m))*t)\n\u001b[32m      4\u001b[39m     \u001b[38;5;28;01mreturn\u001b[39;00m a * b\n",
      "\u001b[31mNameError\u001b[39m: name 'ro' is not defined"
     ]
    }
   ],
   "source": [
    "\n",
    "\n",
    "def felezo(a, b, MaxIter=100, Eps=1e-10):\n",
    "    i = 0\n",
    "    history = []\n",
    "    \n",
    "    history.append((a, b, (a+b)/2))\n",
    "    \n",
    "    while i < MaxIter:\n",
    "        m = (a+b)/2\n",
    "        \n",
    "        if velocity_difference(m) == 0 or ((b-a)/2 < Eps):\n",
    "            return m, history\n",
    "        \n",
    "        if velocity_difference(m)*velocity_difference(a) > 0:\n",
    "            a = m\n",
    "        else:\n",
    "            b = m\n",
    "            \n",
    "        history.append((a, b, m))\n",
    "        i += 1\n",
    "    \n",
    "    return m, history\n",
    "\n",
    "lower_mass = 0.01\n",
    "upper_mass = 1.0\n",
    "\n",
    "\n",
    "found_mass, history = felezo(lower_mass, upper_mass)\n",
    "\n",
    "print(f\"Required mass: {found_mass:.6f} kg\")\n",
    "print(f\"Number of iterations: {len(history)}\")\n"
   ]
  },
  {
   "cell_type": "markdown",
   "metadata": {},
   "source": [
    "# Newton's \n"
   ]
  },
  {
   "cell_type": "code",
   "execution_count": null,
   "metadata": {},
   "outputs": [
    {
     "name": "stdout",
     "output_type": "stream",
     "text": [
      "Required mass (Newton method): 0.624810 kg\n",
      "Velocity at t=5s with this mass: 19.500000 m/s\n",
      "Number of iterations: 6\n"
     ]
    }
   ],
   "source": [
    "def derivative(m, h=1e-6):\n",
    "    return (velocity_difference(m + h) - velocity_difference(m - h)) / (2 * h)\n",
    "\n",
    "# Newton-Raphson method implementation\n",
    "def newton_method(x0, max_iter=100, tol=1e-10):\n",
    "    \"\"\"\n",
    "    Newton's method to find root of velocity_difference function\n",
    "    \n",
    "    Parameters:\n",
    "    x0: initial guess for mass\n",
    "    max_iter: maximum number of iterations\n",
    "    tol: tolerance for convergence\n",
    "    \n",
    "    Returns:\n",
    "    x: approximated root\n",
    "    history: list of iterations for visualization\n",
    "    \"\"\"\n",
    "    x = x0\n",
    "    history = [(x, velocity_difference(x))]\n",
    "    \n",
    "    for i in range(max_iter):\n",
    "        # Compute derivative\n",
    "        f_prime = derivative(x)\n",
    "        \n",
    "        # Avoid division by zero\n",
    "        if abs(f_prime) < 1e-10:\n",
    "            break\n",
    "            \n",
    "        # Newton step\n",
    "        x_new = x - velocity_difference(x) / f_prime\n",
    "        \n",
    "        # Ensure mass stays positive\n",
    "        if x_new <= 0:\n",
    "            x_new = x / 2  # Fallback strategy\n",
    "            \n",
    "        # Add to history\n",
    "        history.append((x_new, velocity_difference(x_new)))\n",
    "        \n",
    "        # Check for convergence\n",
    "        if abs(x_new - x) < tol:\n",
    "            x = x_new\n",
    "            break\n",
    "            \n",
    "        x = x_new\n",
    "        \n",
    "    return x, history\n",
    "\n",
    "# Initial guess for mass (kg)\n",
    "initial_mass = 0.5\n",
    "\n",
    "# Find mass using Newton's method\n",
    "found_mass, history = newton_method(initial_mass)\n",
    "\n",
    "print(f\"Required mass (Newton method): {found_mass:.6f} kg\")\n",
    "print(f\"Velocity at t={target_time}s with this mass: {speed(target_time, found_mass):.6f} m/s\")\n",
    "print(f\"Number of iterations: {len(history)}\")\n"
   ]
  }
 ],
 "metadata": {
  "kernelspec": {
   "display_name": "Python 3",
   "language": "python",
   "name": "python3"
  },
  "language_info": {
   "codemirror_mode": {
    "name": "ipython",
    "version": 3
   },
   "file_extension": ".py",
   "mimetype": "text/x-python",
   "name": "python",
   "nbconvert_exporter": "python",
   "pygments_lexer": "ipython3",
   "version": "3.13.2"
  }
 },
 "nbformat": 4,
 "nbformat_minor": 2
}
